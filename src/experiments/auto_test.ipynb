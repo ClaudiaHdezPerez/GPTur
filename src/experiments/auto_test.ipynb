{
 "cells": [
  {
   "cell_type": "markdown",
   "id": "9fd950a5",
   "metadata": {},
   "source": [
    "# Evaluación Automatizada del Chatbot Turístico\n",
    "\n",
    "Este notebook ejecuta automáticamente una serie de preguntas predefinidas a través del chatbot y guarda las respuestas para su análisis posterior."
   ]
  },
  {
   "cell_type": "code",
   "execution_count": 78,
   "id": "77606a11",
   "metadata": {},
   "outputs": [
    {
     "name": "stdout",
     "output_type": "stream",
     "text": [
      "Directorio src agregado al path: c:\\Users\\Janet\\Documents\\GitHub\\GPTur\\src\n",
      "Archivo .env cargado desde: c:\\Users\\Janet\\Documents\\GitHub\\GPTur\\.env\n"
     ]
    }
   ],
   "source": [
    "# Importar bibliotecas necesarias\n",
    "import os\n",
    "import sys\n",
    "import json\n",
    "import pandas as pd\n",
    "from dotenv import load_dotenv\n",
    "\n",
    "# Configurar el path para encontrar los módulos\n",
    "current_dir = os.path.dirname(os.path.abspath('__file__'))\n",
    "src_dir = os.path.abspath(os.path.join(current_dir, '..'))\n",
    "if src_dir not in sys.path:\n",
    "    sys.path.insert(0, src_dir)\n",
    "print(f\"Directorio src agregado al path: {src_dir}\")\n",
    "\n",
    "# Cargar variables de entorno\n",
    "env_path = os.path.join(os.path.dirname(src_dir), '.env')\n",
    "load_dotenv(env_path)\n",
    "print(f\"Archivo .env cargado desde: {env_path}\")"
   ]
  },
  {
   "cell_type": "code",
   "execution_count": 79,
   "id": "e2561bdb",
   "metadata": {},
   "outputs": [
    {
     "name": "stdout",
     "output_type": "stream",
     "text": [
      "\n",
      "=== Verificación del Entorno ===\n",
      "✓ Python Path\n",
      "✓ Módulo agents\n",
      "✓ Módulo chatbot\n",
      "✓ Módulo vector_db\n",
      "✗ .env file\n",
      "✓ questions.csv\n",
      "\n",
      "⚠ Hay problemas en la configuración que deben ser resueltos\n"
     ]
    }
   ],
   "source": [
    "# Verificar la configuración del entorno\n",
    "def check_environment():\n",
    "    checks = {\n",
    "        \"Python Path\": src_dir in sys.path,\n",
    "        \"Módulo agents\": False,\n",
    "        \"Módulo chatbot\": False,\n",
    "        \"Módulo vector_db\": False,\n",
    "        \".env file\": os.path.exists(env_path),\n",
    "        \"questions.csv\": os.path.exists('questions.csv')\n",
    "    }\n",
    "    \n",
    "    try:\n",
    "        import agents\n",
    "        checks[\"Módulo agents\"] = True\n",
    "    except ImportError as e:\n",
    "        print(f\"Error importando agents: {e}\")\n",
    "        \n",
    "    try:\n",
    "        import chatbot\n",
    "        checks[\"Módulo chatbot\"] = True\n",
    "    except ImportError as e:\n",
    "        print(f\"Error importando chatbot: {e}\")\n",
    "        \n",
    "    try:\n",
    "        import vector_db\n",
    "        checks[\"Módulo vector_db\"] = True\n",
    "    except ImportError as e:\n",
    "        print(f\"Error importando vector_db: {e}\")\n",
    "    \n",
    "    print(\"\\n=== Verificación del Entorno ===\")\n",
    "    all_passed = True\n",
    "    for check, passed in checks.items():\n",
    "        status = \"✓\" if passed else \"✗\"\n",
    "        if not passed:\n",
    "            all_passed = False\n",
    "        print(f\"{status} {check}\")\n",
    "    \n",
    "    if not all_passed:\n",
    "        print(\"\\n⚠ Hay problemas en la configuración que deben ser resueltos\")\n",
    "    else:\n",
    "        print(\"\\n✓ Todo está correctamente configurado\")\n",
    "    \n",
    "    return all_passed\n",
    "\n",
    "# Ejecutar verificación\n",
    "environment_ok = check_environment()"
   ]
  },
  {
   "cell_type": "code",
   "execution_count": 80,
   "id": "9b624859",
   "metadata": {},
   "outputs": [
    {
     "name": "stdout",
     "output_type": "stream",
     "text": [
      "=== Iniciando configuración del chatbot ===\n",
      "\n",
      "Inicializando Chatbot...\n",
      "Chatbot inicializado correctamente\n",
      "\n",
      "✓ Chatbot inicializado exitosamente\n",
      "Tipo de chatbot: CubaChatbot\n"
     ]
    }
   ],
   "source": [
    "# Importar el chatbot y sus componentes\n",
    "from agents.agent_manager import AgentManager\n",
    "from chatbot.core import CubaChatbot\n",
    "from vector_db.chroma_storage import VectorStorage\n",
    "from chatbot.core import CubaChatbot\n",
    "from chatbot.gap_detector import GapDetector\n",
    "from crawlers.dynamic_crawler import DynamicCrawler\n",
    "from agents.retriever_agent import RetrieverAgent\n",
    "from agents.generator_agent import GeneratorAgent\n",
    "from agents.gap_detector_agent import GapDetectorAgent\n",
    "from agents.updater_agent import UpdaterAgent\n",
    "from agents.agent_manager import AgentManager\n",
    "from agents.guide_agent import GuideAgent\n",
    "from agents.planner_agent import TravelPlannerAgent\n",
    "\n",
    "# Inicializar el chatbot\n",
    "def initialize_chatbot():\n",
    "    try:\n",
    "        print(\"\\nInicializando Chatbot...\")\n",
    "        chatbot = CubaChatbot()\n",
    "        print(\"Chatbot inicializado correctamente\")\n",
    "        \n",
    "        return chatbot\n",
    "    except ImportError as e:\n",
    "        print(f\"\\nError de importación: {str(e)}\")\n",
    "        print(\"Verifica que:\")\n",
    "        print(\"1. Estás en el directorio correcto\")\n",
    "        print(\"2. El directorio 'src' está en el Python path\")\n",
    "        print(f\"3. Los módulos están disponibles en: {src_dir}\")\n",
    "        return None\n",
    "    except Exception as e:\n",
    "        print(f\"\\nError inesperado: {str(e)}\")\n",
    "        print(f\"Tipo de error: {type(e).__name__}\")\n",
    "        import traceback\n",
    "        print(\"\\nDetalles del error:\")\n",
    "        print(traceback.format_exc())\n",
    "        return None\n",
    "\n",
    "# Inicializar el chatbot\n",
    "print(\"=== Iniciando configuración del chatbot ===\")\n",
    "chatbot = initialize_chatbot()\n",
    "\n",
    "if chatbot is not None:\n",
    "    print(\"\\n✓ Chatbot inicializado exitosamente\")\n",
    "    print(f\"Tipo de chatbot: {type(chatbot).__name__}\")\n",
    "else:\n",
    "    print(\"\\n✗ Error al inicializar el chatbot\")"
   ]
  },
  {
   "cell_type": "code",
   "execution_count": 81,
   "id": "0ea4a2dc",
   "metadata": {},
   "outputs": [
    {
     "name": "stdout",
     "output_type": "stream",
     "text": [
      "Se cargaron 30 preguntas\n"
     ]
    }
   ],
   "source": [
    "# Cargar las preguntas desde el archivo CSV\n",
    "def load_questions():\n",
    "    try:\n",
    "        questions_df = pd.read_csv('questions.csv')\n",
    "        return questions_df['pregunta'].tolist()\n",
    "    except Exception as e:\n",
    "        print(f\"Error al cargar las preguntas: {str(e)}\")\n",
    "        return []\n",
    "\n",
    "# Cargar las preguntas\n",
    "questions = load_questions()\n",
    "print(f\"Se cargaron {len(questions)} preguntas\")"
   ]
  },
  {
   "cell_type": "code",
   "execution_count": 82,
   "id": "86a89096",
   "metadata": {},
   "outputs": [],
   "source": [
    "def generate_response(prompt):\n",
    "    chatbot = CubaChatbot()\n",
    "    if not chatbot.vector_db.get_documents():\n",
    "        print(\"\\nCargando datos iniciales...\\n\")\n",
    "        try:\n",
    "            chatbot.vector_db.reload_data()\n",
    "            if not chatbot.vector_db.get_documents():\n",
    "                print(\"Error: No se pudieron cargar los datos iniciales\")\n",
    "        except Exception as e:\n",
    "            raise ValueError(f\"Error crítico: {str(e)}\")\n",
    "\n",
    "    detector = GapDetector(chatbot.vector_db)\n",
    "    updater = DynamicCrawler()\n",
    "    guide_agent = GuideAgent(chatbot.vector_db)\n",
    "    planner_agent = TravelPlannerAgent(chatbot.vector_db)\n",
    "\n",
    "    # Inicialización de agentes\n",
    "    retriever_agent = RetrieverAgent(chatbot.vector_db)\n",
    "    generator_agent = GeneratorAgent(guide_agent, planner_agent)\n",
    "    gap_detector_agent = GapDetectorAgent(detector)\n",
    "    updater_agent = UpdaterAgent(updater)\n",
    "\n",
    "    # Inicialización del manager\n",
    "    manager = AgentManager([\n",
    "        retriever_agent,\n",
    "        generator_agent,\n",
    "        gap_detector_agent,\n",
    "        updater_agent\n",
    "    ])\n",
    "\n",
    "    # Procesar input del usuario\n",
    "    # Recuperar contexto (opcional, si lo usas)\n",
    "    retrieval_task = {\"type\": \"retrieve\", \"query\": prompt}\n",
    "    context = manager.dispatch(retrieval_task, {})\n",
    "\n",
    "    # Generar respuesta\n",
    "    generate_task = {\"type\": \"generate\", \"prompt\": prompt}\n",
    "    response = manager.dispatch(generate_task, context)\n",
    "\n",
    "    # Verificar si necesita actualización\n",
    "    detect_task = {\"type\": \"detect_gap\", \"prompt\": prompt, \"response\": response}\n",
    "    needs_update = manager.dispatch(detect_task, context)\n",
    "\n",
    "    if needs_update:\n",
    "        # Identificar fuentes a actualizar\n",
    "        sources = detector.identify_outdated_sources(prompt)\n",
    "        update_task = {\"type\": \"update_sources\", \"sources\": sources}\n",
    "        manager.dispatch(update_task, context)\n",
    "        chatbot.vector_db.reload_data()\n",
    "        # Regenerar respuesta\n",
    "        response = manager.dispatch(generate_task, context)\n",
    "\n",
    "    # Agregar respuesta final\n",
    "    if hasattr(response, \"choices\"):\n",
    "        response_text = \" \".join([choice.message.content for choice in response.choices])\n",
    "    else:\n",
    "        response_text = str(response)\n",
    "\n",
    "    return response_text"
   ]
  },
  {
   "cell_type": "code",
   "execution_count": null,
   "id": "d076a09a",
   "metadata": {},
   "outputs": [],
   "source": [
    "# Función para procesar las preguntas y obtener respuestas\n",
    "def process_questions(questions):\n",
    "    results = []\n",
    "    \n",
    "    for i, question in enumerate(questions, 1):\n",
    "        try:\n",
    "            print(f\"\\nProcesando pregunta {i}/{len(questions)}\")\n",
    "            print(f\"Pregunta: {question}\")\n",
    "            \n",
    "            # Obtener respuesta del chatbot\n",
    "            print(\"Enviando pregunta al chatbot...\")\n",
    "            response = generate_response(question)\n",
    "            print(\"Respuesta recibida del chatbot\")\n",
    "            \n",
    "            # Procesar la respuesta según su tipo\n",
    "            if response is None:\n",
    "                raise ValueError(\"La respuesta del chatbot es None\")\n",
    "                \n",
    "            if isinstance(response, dict):\n",
    "                if 'response' in response:\n",
    "                    response_text = response['response']\n",
    "                elif 'message' in response:\n",
    "                    response_text = response['message']\n",
    "                else:\n",
    "                    print(f\"Estructura de respuesta inesperada: {response.keys()}\")\n",
    "                    response_text = str(response)\n",
    "            else:\n",
    "                response_text = str(response)\n",
    "            \n",
    "            print(f\"Longitud de la respuesta: {len(response_text)} caracteres\")\n",
    "            \n",
    "            # Guardar resultado\n",
    "            results.append({\n",
    "                'pregunta': question,\n",
    "                'respuesta_manual': response_text\n",
    "            })\n",
    "                \n",
    "        except Exception as e:\n",
    "            print(f\"Error procesando pregunta {i}: {str(e)}\")\n",
    "            results.append({\n",
    "                'pregunta': question,\n",
    "                'respuesta': f\"ERROR: {str(e)}\",\n",
    "                'id': i\n",
    "            })\n",
    "    \n",
    "    return results"
   ]
  },
  {
   "cell_type": "code",
   "execution_count": null,
   "id": "620efb45",
   "metadata": {},
   "outputs": [
    {
     "name": "stdout",
     "output_type": "stream",
     "text": [
      "Chatbot inicializado: CubaChatbot\n",
      "Preguntas cargadas: 30\n",
      "\n",
      "Iniciando procesamiento de preguntas...\n",
      "\n",
      "Procesando pregunta 1/30\n",
      "Pregunta: ¿Qué platos típicos puedo encontrar en Holguín?\n",
      "Enviando pregunta al chatbot...\n"
     ]
    },
    {
     "name": "stderr",
     "output_type": "stream",
     "text": [
      "2025-06-14 00:33:04.629 WARNING streamlit.runtime.scriptrunner_utils.script_run_context: Thread 'MainThread': missing ScriptRunContext! This warning can be ignored when running in bare mode.\n"
     ]
    },
    {
     "name": "stdout",
     "output_type": "stream",
     "text": [
      "Respuesta recibida del chatbot\n",
      "Longitud de la respuesta: 2525 caracteres\n",
      "\n",
      "Procesando pregunta 2/30\n",
      "Pregunta: ¿Cuáles son los mejores lugares para disfrutar de la vida nocturna en La Habana?\n",
      "Enviando pregunta al chatbot...\n"
     ]
    },
    {
     "name": "stderr",
     "output_type": "stream",
     "text": [
      "2025-06-14 00:33:30.356 WARNING streamlit.runtime.scriptrunner_utils.script_run_context: Thread 'MainThread': missing ScriptRunContext! This warning can be ignored when running in bare mode.\n"
     ]
    },
    {
     "name": "stdout",
     "output_type": "stream",
     "text": [
      "Respuesta recibida del chatbot\n",
      "Longitud de la respuesta: 2788 caracteres\n",
      "\n",
      "Procesando pregunta 3/30\n",
      "Pregunta: ¿Dónde puedo encontrar alojamiento económico en Trinidad?\n",
      "Enviando pregunta al chatbot...\n"
     ]
    },
    {
     "name": "stderr",
     "output_type": "stream",
     "text": [
      "2025-06-14 00:33:58.419 WARNING streamlit.runtime.scriptrunner_utils.script_run_context: Thread 'MainThread': missing ScriptRunContext! This warning can be ignored when running in bare mode.\n"
     ]
    },
    {
     "name": "stdout",
     "output_type": "stream",
     "text": [
      "Respuesta recibida del chatbot\n",
      "Longitud de la respuesta: 1838 caracteres\n",
      "\n",
      "Procesando pregunta 4/30\n",
      "Pregunta: ¿Qué lugares históricos son imprescindibles de visitar en Santiago de Cuba?\n",
      "Enviando pregunta al chatbot...\n"
     ]
    },
    {
     "name": "stderr",
     "output_type": "stream",
     "text": [
      "2025-06-14 00:34:16.115 WARNING streamlit.runtime.scriptrunner_utils.script_run_context: Thread 'MainThread': missing ScriptRunContext! This warning can be ignored when running in bare mode.\n"
     ]
    },
    {
     "name": "stdout",
     "output_type": "stream",
     "text": [
      "Respuesta recibida del chatbot\n",
      "Longitud de la respuesta: 3341 caracteres\n",
      "\n",
      "Procesando pregunta 5/30\n",
      "Pregunta: ¿Cuáles son los restaurantes más recomendados en Matanzas?\n",
      "Enviando pregunta al chatbot...\n"
     ]
    },
    {
     "name": "stderr",
     "output_type": "stream",
     "text": [
      "2025-06-14 00:34:41.367 WARNING streamlit.runtime.scriptrunner_utils.script_run_context: Thread 'MainThread': missing ScriptRunContext! This warning can be ignored when running in bare mode.\n"
     ]
    },
    {
     "ename": "KeyboardInterrupt",
     "evalue": "",
     "output_type": "error",
     "traceback": [
      "\u001b[31m---------------------------------------------------------------------------\u001b[39m",
      "\u001b[31mKeyboardInterrupt\u001b[39m                         Traceback (most recent call last)",
      "\u001b[36mCell\u001b[39m\u001b[36m \u001b[39m\u001b[32mIn[84]\u001b[39m\u001b[32m, line 18\u001b[39m\n\u001b[32m     15\u001b[39m     \u001b[38;5;28mprint\u001b[39m(\u001b[33mf\u001b[39m\u001b[33m\"\u001b[39m\u001b[33mPreguntas cargadas: \u001b[39m\u001b[38;5;132;01m{\u001b[39;00m\u001b[38;5;28mlen\u001b[39m(questions)\u001b[38;5;132;01m}\u001b[39;00m\u001b[33m\"\u001b[39m)\n\u001b[32m     16\u001b[39m     \u001b[38;5;28mprint\u001b[39m(\u001b[33m\"\u001b[39m\u001b[38;5;130;01m\\n\u001b[39;00m\u001b[33mIniciando procesamiento de preguntas...\u001b[39m\u001b[33m\"\u001b[39m)\n\u001b[32m---> \u001b[39m\u001b[32m18\u001b[39m     results = \u001b[43mprocess_questions\u001b[49m\u001b[43m(\u001b[49m\u001b[43mchatbot\u001b[49m\u001b[43m,\u001b[49m\u001b[43m \u001b[49m\u001b[43mquestions\u001b[49m\u001b[43m)\u001b[49m\n\u001b[32m     20\u001b[39m \u001b[38;5;66;03m# Guardar resultados finales en JSON\u001b[39;00m\n\u001b[32m     21\u001b[39m results_json = [\n\u001b[32m     22\u001b[39m     {\n\u001b[32m     23\u001b[39m         \u001b[33m\"\u001b[39m\u001b[33mpregunta\u001b[39m\u001b[33m\"\u001b[39m: r[\u001b[33m\"\u001b[39m\u001b[33mpregunta\u001b[39m\u001b[33m\"\u001b[39m],\n\u001b[32m   (...)\u001b[39m\u001b[32m     26\u001b[39m     \u001b[38;5;28;01mfor\u001b[39;00m r \u001b[38;5;129;01min\u001b[39;00m results\n\u001b[32m     27\u001b[39m ]\n",
      "\u001b[36mCell\u001b[39m\u001b[36m \u001b[39m\u001b[32mIn[83]\u001b[39m\u001b[32m, line 12\u001b[39m, in \u001b[36mprocess_questions\u001b[39m\u001b[34m(chatbot, questions)\u001b[39m\n\u001b[32m     10\u001b[39m \u001b[38;5;66;03m# Obtener respuesta del chatbot\u001b[39;00m\n\u001b[32m     11\u001b[39m \u001b[38;5;28mprint\u001b[39m(\u001b[33m\"\u001b[39m\u001b[33mEnviando pregunta al chatbot...\u001b[39m\u001b[33m\"\u001b[39m)\n\u001b[32m---> \u001b[39m\u001b[32m12\u001b[39m response = \u001b[43mgenerate_response\u001b[49m\u001b[43m(\u001b[49m\u001b[43mquestion\u001b[49m\u001b[43m)\u001b[49m\n\u001b[32m     13\u001b[39m \u001b[38;5;28mprint\u001b[39m(\u001b[33m\"\u001b[39m\u001b[33mRespuesta recibida del chatbot\u001b[39m\u001b[33m\"\u001b[39m)\n\u001b[32m     15\u001b[39m \u001b[38;5;66;03m# Procesar la respuesta según su tipo\u001b[39;00m\n",
      "\u001b[36mCell\u001b[39m\u001b[36m \u001b[39m\u001b[32mIn[82]\u001b[39m\u001b[32m, line 38\u001b[39m, in \u001b[36mgenerate_response\u001b[39m\u001b[34m(prompt)\u001b[39m\n\u001b[32m     36\u001b[39m \u001b[38;5;66;03m# Generar respuesta\u001b[39;00m\n\u001b[32m     37\u001b[39m generate_task = {\u001b[33m\"\u001b[39m\u001b[33mtype\u001b[39m\u001b[33m\"\u001b[39m: \u001b[33m\"\u001b[39m\u001b[33mgenerate\u001b[39m\u001b[33m\"\u001b[39m, \u001b[33m\"\u001b[39m\u001b[33mprompt\u001b[39m\u001b[33m\"\u001b[39m: prompt}\n\u001b[32m---> \u001b[39m\u001b[32m38\u001b[39m response = \u001b[43mmanager\u001b[49m\u001b[43m.\u001b[49m\u001b[43mdispatch\u001b[49m\u001b[43m(\u001b[49m\u001b[43mgenerate_task\u001b[49m\u001b[43m,\u001b[49m\u001b[43m \u001b[49m\u001b[43mcontext\u001b[49m\u001b[43m)\u001b[49m\n\u001b[32m     40\u001b[39m \u001b[38;5;66;03m# Verificar si necesita actualización\u001b[39;00m\n\u001b[32m     41\u001b[39m detect_task = {\u001b[33m\"\u001b[39m\u001b[33mtype\u001b[39m\u001b[33m\"\u001b[39m: \u001b[33m\"\u001b[39m\u001b[33mdetect_gap\u001b[39m\u001b[33m\"\u001b[39m, \u001b[33m\"\u001b[39m\u001b[33mprompt\u001b[39m\u001b[33m\"\u001b[39m: prompt, \u001b[33m\"\u001b[39m\u001b[33mresponse\u001b[39m\u001b[33m\"\u001b[39m: response}\n",
      "\u001b[36mFile \u001b[39m\u001b[32mc:\\Users\\Janet\\Documents\\GitHub\\GPTur\\src\\agents\\agent_manager.py:8\u001b[39m, in \u001b[36mAgentManager.dispatch\u001b[39m\u001b[34m(self, task, context)\u001b[39m\n\u001b[32m      6\u001b[39m \u001b[38;5;28;01mfor\u001b[39;00m agent \u001b[38;5;129;01min\u001b[39;00m \u001b[38;5;28mself\u001b[39m.agents:\n\u001b[32m      7\u001b[39m     \u001b[38;5;28;01mif\u001b[39;00m agent.can_handle(task):\n\u001b[32m----> \u001b[39m\u001b[32m8\u001b[39m         \u001b[38;5;28;01mreturn\u001b[39;00m \u001b[43magent\u001b[49m\u001b[43m.\u001b[49m\u001b[43mhandle\u001b[49m\u001b[43m(\u001b[49m\u001b[43mtask\u001b[49m\u001b[43m,\u001b[49m\u001b[43m \u001b[49m\u001b[43mcontext\u001b[49m\u001b[43m)\u001b[49m\n\u001b[32m      9\u001b[39m \u001b[38;5;28;01mraise\u001b[39;00m \u001b[38;5;167;01mException\u001b[39;00m(\u001b[33m\"\u001b[39m\u001b[33mNo agent can handle this task\u001b[39m\u001b[33m\"\u001b[39m)\n",
      "\u001b[36mFile \u001b[39m\u001b[32mc:\\Users\\Janet\\Documents\\GitHub\\GPTur\\src\\agents\\generator_agent.py:18\u001b[39m, in \u001b[36mGeneratorAgent.handle\u001b[39m\u001b[34m(self, task, context)\u001b[39m\n\u001b[32m     16\u001b[39m \u001b[38;5;66;03m# Deliberar y actuar\u001b[39;00m\n\u001b[32m     17\u001b[39m \u001b[38;5;28mself\u001b[39m.guide_agent.deliberate()\n\u001b[32m---> \u001b[39m\u001b[32m18\u001b[39m response = \u001b[38;5;28;43mself\u001b[39;49m\u001b[43m.\u001b[49m\u001b[43mguide_agent\u001b[49m\u001b[43m.\u001b[49m\u001b[43mact\u001b[49m\u001b[43m(\u001b[49m\u001b[43m)\u001b[49m\n\u001b[32m     20\u001b[39m \u001b[38;5;66;03m# Si se detecta solicitud de itinerario\u001b[39;00m\n\u001b[32m     21\u001b[39m \u001b[38;5;28;01mif\u001b[39;00m \u001b[33m\"\u001b[39m\u001b[33mitinerario\u001b[39m\u001b[33m\"\u001b[39m \u001b[38;5;129;01min\u001b[39;00m prompt.lower() \u001b[38;5;129;01mor\u001b[39;00m \u001b[33m\"\u001b[39m\u001b[33mplanear\u001b[39m\u001b[33m\"\u001b[39m \u001b[38;5;129;01min\u001b[39;00m prompt.lower():\n",
      "\u001b[36mFile \u001b[39m\u001b[32mc:\\Users\\Janet\\Documents\\GitHub\\GPTur\\src\\agents\\guide_agent.py:39\u001b[39m, in \u001b[36mGuideAgent.act\u001b[39m\u001b[34m(self)\u001b[39m\n\u001b[32m     37\u001b[39m     \u001b[38;5;28mself\u001b[39m.trigger_crawler()\n\u001b[32m     38\u001b[39m \u001b[38;5;28;01melif\u001b[39;00m intention == \u001b[33m\"\u001b[39m\u001b[33mgenerate_response\u001b[39m\u001b[33m\"\u001b[39m:\n\u001b[32m---> \u001b[39m\u001b[32m39\u001b[39m     \u001b[38;5;28;01mreturn\u001b[39;00m \u001b[38;5;28;43mself\u001b[39;49m\u001b[43m.\u001b[49m\u001b[43mgenerate_response\u001b[49m\u001b[43m(\u001b[49m\u001b[43m)\u001b[49m\n",
      "\u001b[36mFile \u001b[39m\u001b[32mc:\\Users\\Janet\\Documents\\GitHub\\GPTur\\src\\agents\\guide_agent.py:93\u001b[39m, in \u001b[36mGuideAgent.generate_response\u001b[39m\u001b[34m(self)\u001b[39m\n\u001b[32m     84\u001b[39m     response = \u001b[38;5;28mself\u001b[39m.client.chat(\n\u001b[32m     85\u001b[39m         model=\u001b[33m\"\u001b[39m\u001b[33mmistral-medium\u001b[39m\u001b[33m\"\u001b[39m,\n\u001b[32m     86\u001b[39m         messages=[{\n\u001b[32m   (...)\u001b[39m\u001b[32m     90\u001b[39m         }]\n\u001b[32m     91\u001b[39m     )\n\u001b[32m     92\u001b[39m \u001b[38;5;28;01melse\u001b[39;00m:\n\u001b[32m---> \u001b[39m\u001b[32m93\u001b[39m     response = \u001b[38;5;28;43mself\u001b[39;49m\u001b[43m.\u001b[49m\u001b[43mclient\u001b[49m\u001b[43m.\u001b[49m\u001b[43mchat\u001b[49m\u001b[43m(\u001b[49m\n\u001b[32m     94\u001b[39m \u001b[43m        \u001b[49m\u001b[43mmodel\u001b[49m\u001b[43m=\u001b[49m\u001b[33;43m\"\u001b[39;49m\u001b[33;43mmistral-medium\u001b[39;49m\u001b[33;43m\"\u001b[39;49m\u001b[43m,\u001b[49m\n\u001b[32m     95\u001b[39m \u001b[43m        \u001b[49m\u001b[43mmessages\u001b[49m\u001b[43m=\u001b[49m\u001b[43m[\u001b[49m\u001b[43m{\u001b[49m\n\u001b[32m     96\u001b[39m \u001b[43m            \u001b[49m\u001b[33;43m\"\u001b[39;49m\u001b[33;43mrole\u001b[39;49m\u001b[33;43m\"\u001b[39;49m\u001b[43m:\u001b[49m\u001b[43m \u001b[49m\u001b[33;43m\"\u001b[39;49m\u001b[33;43muser\u001b[39;49m\u001b[33;43m\"\u001b[39;49m\u001b[43m,\u001b[49m\n\u001b[32m     97\u001b[39m \u001b[43m            \u001b[49m\u001b[33;43m\"\u001b[39;49m\u001b[33;43mcontent\u001b[39;49m\u001b[33;43m\"\u001b[39;49m\u001b[43m:\u001b[49m\u001b[43m \u001b[49m\u001b[33;43mf\u001b[39;49m\u001b[33;43m\"\"\"\u001b[39;49m\u001b[33;43mBased on the following specialized information, provide a comprehensive response:\u001b[39;49m\n\u001b[32m     98\u001b[39m \u001b[33;43m            Question: \u001b[39;49m\u001b[38;5;132;43;01m{\u001b[39;49;00m\u001b[43mquery\u001b[49m\u001b[38;5;132;43;01m}\u001b[39;49;00m\n\u001b[32m     99\u001b[39m \u001b[33;43m            Specialized Information:\u001b[39;49m\n\u001b[32m    100\u001b[39m \u001b[33;43m            \u001b[39;49m\u001b[38;5;132;43;01m{\u001b[39;49;00m\u001b[43mcontext\u001b[49m\u001b[38;5;132;43;01m}\u001b[39;49;00m\n\u001b[32m    101\u001b[39m \u001b[33;43m            \u001b[39;49m\n\u001b[32m    102\u001b[39m \u001b[33;43m            Please provide a well-organized response that integrates all relevant information.\u001b[39;49m\u001b[33;43m\"\"\"\u001b[39;49m\n\u001b[32m    103\u001b[39m \u001b[43m        \u001b[49m\u001b[43m}\u001b[49m\u001b[43m]\u001b[49m\n\u001b[32m    104\u001b[39m \u001b[43m    \u001b[49m\u001b[43m)\u001b[49m\n\u001b[32m    106\u001b[39m \u001b[38;5;66;03m# Clean up the blackboard\u001b[39;00m\n\u001b[32m    107\u001b[39m \u001b[38;5;28mself\u001b[39m.blackboard.clear_problem(problem_id)\n",
      "\u001b[36mFile \u001b[39m\u001b[32mc:\\Users\\Janet\\AppData\\Local\\Programs\\Python\\Python312\\Lib\\site-packages\\mistralai\\client.py:201\u001b[39m, in \u001b[36mMistralClient.chat\u001b[39m\u001b[34m(self, messages, model, tools, temperature, max_tokens, top_p, random_seed, safe_mode, safe_prompt, tool_choice, response_format)\u001b[39m\n\u001b[32m    185\u001b[39m request = \u001b[38;5;28mself\u001b[39m._make_chat_request(\n\u001b[32m    186\u001b[39m     messages,\n\u001b[32m    187\u001b[39m     model,\n\u001b[32m   (...)\u001b[39m\u001b[32m    196\u001b[39m     response_format=response_format,\n\u001b[32m    197\u001b[39m )\n\u001b[32m    199\u001b[39m single_response = \u001b[38;5;28mself\u001b[39m._request(\u001b[33m\"\u001b[39m\u001b[33mpost\u001b[39m\u001b[33m\"\u001b[39m, request, \u001b[33m\"\u001b[39m\u001b[33mv1/chat/completions\u001b[39m\u001b[33m\"\u001b[39m)\n\u001b[32m--> \u001b[39m\u001b[32m201\u001b[39m \u001b[43m\u001b[49m\u001b[38;5;28;43;01mfor\u001b[39;49;00m\u001b[43m \u001b[49m\u001b[43mresponse\u001b[49m\u001b[43m \u001b[49m\u001b[38;5;129;43;01min\u001b[39;49;00m\u001b[43m \u001b[49m\u001b[43msingle_response\u001b[49m\u001b[43m:\u001b[49m\n\u001b[32m    202\u001b[39m \u001b[43m    \u001b[49m\u001b[38;5;28;43;01mreturn\u001b[39;49;00m\u001b[43m \u001b[49m\u001b[43mChatCompletionResponse\u001b[49m\u001b[43m(\u001b[49m\u001b[43m*\u001b[49m\u001b[43m*\u001b[49m\u001b[43mresponse\u001b[49m\u001b[43m)\u001b[49m\n\u001b[32m    204\u001b[39m \u001b[38;5;28;01mraise\u001b[39;00m MistralException(\u001b[33m\"\u001b[39m\u001b[33mNo response received\u001b[39m\u001b[33m\"\u001b[39m)\n",
      "\u001b[36mFile \u001b[39m\u001b[32mc:\\Users\\Janet\\AppData\\Local\\Programs\\Python\\Python312\\Lib\\site-packages\\mistralai\\client.py:124\u001b[39m, in \u001b[36mMistralClient._request\u001b[39m\u001b[34m(self, method, json, path, stream, attempt)\u001b[39m\n\u001b[32m    121\u001b[39m                     \u001b[38;5;28;01myield\u001b[39;00m json_streamed_response\n\u001b[32m    123\u001b[39m     \u001b[38;5;28;01melse\u001b[39;00m:\n\u001b[32m--> \u001b[39m\u001b[32m124\u001b[39m         response = \u001b[38;5;28;43mself\u001b[39;49m\u001b[43m.\u001b[49m\u001b[43m_client\u001b[49m\u001b[43m.\u001b[49m\u001b[43mrequest\u001b[49m\u001b[43m(\u001b[49m\n\u001b[32m    125\u001b[39m \u001b[43m            \u001b[49m\u001b[43mmethod\u001b[49m\u001b[43m,\u001b[49m\n\u001b[32m    126\u001b[39m \u001b[43m            \u001b[49m\u001b[43murl\u001b[49m\u001b[43m,\u001b[49m\n\u001b[32m    127\u001b[39m \u001b[43m            \u001b[49m\u001b[43mheaders\u001b[49m\u001b[43m=\u001b[49m\u001b[43mheaders\u001b[49m\u001b[43m,\u001b[49m\n\u001b[32m    128\u001b[39m \u001b[43m            \u001b[49m\u001b[43mjson\u001b[49m\u001b[43m=\u001b[49m\u001b[43mjson\u001b[49m\u001b[43m,\u001b[49m\n\u001b[32m    129\u001b[39m \u001b[43m        \u001b[49m\u001b[43m)\u001b[49m\n\u001b[32m    131\u001b[39m         \u001b[38;5;28;01myield\u001b[39;00m \u001b[38;5;28mself\u001b[39m._check_response(response)\n\u001b[32m    133\u001b[39m \u001b[38;5;28;01mexcept\u001b[39;00m ConnectError \u001b[38;5;28;01mas\u001b[39;00m e:\n",
      "\u001b[36mFile \u001b[39m\u001b[32mc:\\Users\\Janet\\AppData\\Local\\Programs\\Python\\Python312\\Lib\\site-packages\\httpx\\_client.py:825\u001b[39m, in \u001b[36mClient.request\u001b[39m\u001b[34m(self, method, url, content, data, files, json, params, headers, cookies, auth, follow_redirects, timeout, extensions)\u001b[39m\n\u001b[32m    810\u001b[39m     warnings.warn(message, \u001b[38;5;167;01mDeprecationWarning\u001b[39;00m, stacklevel=\u001b[32m2\u001b[39m)\n\u001b[32m    812\u001b[39m request = \u001b[38;5;28mself\u001b[39m.build_request(\n\u001b[32m    813\u001b[39m     method=method,\n\u001b[32m    814\u001b[39m     url=url,\n\u001b[32m   (...)\u001b[39m\u001b[32m    823\u001b[39m     extensions=extensions,\n\u001b[32m    824\u001b[39m )\n\u001b[32m--> \u001b[39m\u001b[32m825\u001b[39m \u001b[38;5;28;01mreturn\u001b[39;00m \u001b[38;5;28;43mself\u001b[39;49m\u001b[43m.\u001b[49m\u001b[43msend\u001b[49m\u001b[43m(\u001b[49m\u001b[43mrequest\u001b[49m\u001b[43m,\u001b[49m\u001b[43m \u001b[49m\u001b[43mauth\u001b[49m\u001b[43m=\u001b[49m\u001b[43mauth\u001b[49m\u001b[43m,\u001b[49m\u001b[43m \u001b[49m\u001b[43mfollow_redirects\u001b[49m\u001b[43m=\u001b[49m\u001b[43mfollow_redirects\u001b[49m\u001b[43m)\u001b[49m\n",
      "\u001b[36mFile \u001b[39m\u001b[32mc:\\Users\\Janet\\AppData\\Local\\Programs\\Python\\Python312\\Lib\\site-packages\\httpx\\_client.py:914\u001b[39m, in \u001b[36mClient.send\u001b[39m\u001b[34m(self, request, stream, auth, follow_redirects)\u001b[39m\n\u001b[32m    910\u001b[39m \u001b[38;5;28mself\u001b[39m._set_timeout(request)\n\u001b[32m    912\u001b[39m auth = \u001b[38;5;28mself\u001b[39m._build_request_auth(request, auth)\n\u001b[32m--> \u001b[39m\u001b[32m914\u001b[39m response = \u001b[38;5;28;43mself\u001b[39;49m\u001b[43m.\u001b[49m\u001b[43m_send_handling_auth\u001b[49m\u001b[43m(\u001b[49m\n\u001b[32m    915\u001b[39m \u001b[43m    \u001b[49m\u001b[43mrequest\u001b[49m\u001b[43m,\u001b[49m\n\u001b[32m    916\u001b[39m \u001b[43m    \u001b[49m\u001b[43mauth\u001b[49m\u001b[43m=\u001b[49m\u001b[43mauth\u001b[49m\u001b[43m,\u001b[49m\n\u001b[32m    917\u001b[39m \u001b[43m    \u001b[49m\u001b[43mfollow_redirects\u001b[49m\u001b[43m=\u001b[49m\u001b[43mfollow_redirects\u001b[49m\u001b[43m,\u001b[49m\n\u001b[32m    918\u001b[39m \u001b[43m    \u001b[49m\u001b[43mhistory\u001b[49m\u001b[43m=\u001b[49m\u001b[43m[\u001b[49m\u001b[43m]\u001b[49m\u001b[43m,\u001b[49m\n\u001b[32m    919\u001b[39m \u001b[43m\u001b[49m\u001b[43m)\u001b[49m\n\u001b[32m    920\u001b[39m \u001b[38;5;28;01mtry\u001b[39;00m:\n\u001b[32m    921\u001b[39m     \u001b[38;5;28;01mif\u001b[39;00m \u001b[38;5;129;01mnot\u001b[39;00m stream:\n",
      "\u001b[36mFile \u001b[39m\u001b[32mc:\\Users\\Janet\\AppData\\Local\\Programs\\Python\\Python312\\Lib\\site-packages\\httpx\\_client.py:942\u001b[39m, in \u001b[36mClient._send_handling_auth\u001b[39m\u001b[34m(self, request, auth, follow_redirects, history)\u001b[39m\n\u001b[32m    939\u001b[39m request = \u001b[38;5;28mnext\u001b[39m(auth_flow)\n\u001b[32m    941\u001b[39m \u001b[38;5;28;01mwhile\u001b[39;00m \u001b[38;5;28;01mTrue\u001b[39;00m:\n\u001b[32m--> \u001b[39m\u001b[32m942\u001b[39m     response = \u001b[38;5;28;43mself\u001b[39;49m\u001b[43m.\u001b[49m\u001b[43m_send_handling_redirects\u001b[49m\u001b[43m(\u001b[49m\n\u001b[32m    943\u001b[39m \u001b[43m        \u001b[49m\u001b[43mrequest\u001b[49m\u001b[43m,\u001b[49m\n\u001b[32m    944\u001b[39m \u001b[43m        \u001b[49m\u001b[43mfollow_redirects\u001b[49m\u001b[43m=\u001b[49m\u001b[43mfollow_redirects\u001b[49m\u001b[43m,\u001b[49m\n\u001b[32m    945\u001b[39m \u001b[43m        \u001b[49m\u001b[43mhistory\u001b[49m\u001b[43m=\u001b[49m\u001b[43mhistory\u001b[49m\u001b[43m,\u001b[49m\n\u001b[32m    946\u001b[39m \u001b[43m    \u001b[49m\u001b[43m)\u001b[49m\n\u001b[32m    947\u001b[39m     \u001b[38;5;28;01mtry\u001b[39;00m:\n\u001b[32m    948\u001b[39m         \u001b[38;5;28;01mtry\u001b[39;00m:\n",
      "\u001b[36mFile \u001b[39m\u001b[32mc:\\Users\\Janet\\AppData\\Local\\Programs\\Python\\Python312\\Lib\\site-packages\\httpx\\_client.py:979\u001b[39m, in \u001b[36mClient._send_handling_redirects\u001b[39m\u001b[34m(self, request, follow_redirects, history)\u001b[39m\n\u001b[32m    976\u001b[39m \u001b[38;5;28;01mfor\u001b[39;00m hook \u001b[38;5;129;01min\u001b[39;00m \u001b[38;5;28mself\u001b[39m._event_hooks[\u001b[33m\"\u001b[39m\u001b[33mrequest\u001b[39m\u001b[33m\"\u001b[39m]:\n\u001b[32m    977\u001b[39m     hook(request)\n\u001b[32m--> \u001b[39m\u001b[32m979\u001b[39m response = \u001b[38;5;28;43mself\u001b[39;49m\u001b[43m.\u001b[49m\u001b[43m_send_single_request\u001b[49m\u001b[43m(\u001b[49m\u001b[43mrequest\u001b[49m\u001b[43m)\u001b[49m\n\u001b[32m    980\u001b[39m \u001b[38;5;28;01mtry\u001b[39;00m:\n\u001b[32m    981\u001b[39m     \u001b[38;5;28;01mfor\u001b[39;00m hook \u001b[38;5;129;01min\u001b[39;00m \u001b[38;5;28mself\u001b[39m._event_hooks[\u001b[33m\"\u001b[39m\u001b[33mresponse\u001b[39m\u001b[33m\"\u001b[39m]:\n",
      "\u001b[36mFile \u001b[39m\u001b[32mc:\\Users\\Janet\\AppData\\Local\\Programs\\Python\\Python312\\Lib\\site-packages\\httpx\\_client.py:1014\u001b[39m, in \u001b[36mClient._send_single_request\u001b[39m\u001b[34m(self, request)\u001b[39m\n\u001b[32m   1009\u001b[39m     \u001b[38;5;28;01mraise\u001b[39;00m \u001b[38;5;167;01mRuntimeError\u001b[39;00m(\n\u001b[32m   1010\u001b[39m         \u001b[33m\"\u001b[39m\u001b[33mAttempted to send an async request with a sync Client instance.\u001b[39m\u001b[33m\"\u001b[39m\n\u001b[32m   1011\u001b[39m     )\n\u001b[32m   1013\u001b[39m \u001b[38;5;28;01mwith\u001b[39;00m request_context(request=request):\n\u001b[32m-> \u001b[39m\u001b[32m1014\u001b[39m     response = \u001b[43mtransport\u001b[49m\u001b[43m.\u001b[49m\u001b[43mhandle_request\u001b[49m\u001b[43m(\u001b[49m\u001b[43mrequest\u001b[49m\u001b[43m)\u001b[49m\n\u001b[32m   1016\u001b[39m \u001b[38;5;28;01massert\u001b[39;00m \u001b[38;5;28misinstance\u001b[39m(response.stream, SyncByteStream)\n\u001b[32m   1018\u001b[39m response.request = request\n",
      "\u001b[36mFile \u001b[39m\u001b[32mc:\\Users\\Janet\\AppData\\Local\\Programs\\Python\\Python312\\Lib\\site-packages\\httpx\\_transports\\default.py:250\u001b[39m, in \u001b[36mHTTPTransport.handle_request\u001b[39m\u001b[34m(self, request)\u001b[39m\n\u001b[32m    237\u001b[39m req = httpcore.Request(\n\u001b[32m    238\u001b[39m     method=request.method,\n\u001b[32m    239\u001b[39m     url=httpcore.URL(\n\u001b[32m   (...)\u001b[39m\u001b[32m    247\u001b[39m     extensions=request.extensions,\n\u001b[32m    248\u001b[39m )\n\u001b[32m    249\u001b[39m \u001b[38;5;28;01mwith\u001b[39;00m map_httpcore_exceptions():\n\u001b[32m--> \u001b[39m\u001b[32m250\u001b[39m     resp = \u001b[38;5;28;43mself\u001b[39;49m\u001b[43m.\u001b[49m\u001b[43m_pool\u001b[49m\u001b[43m.\u001b[49m\u001b[43mhandle_request\u001b[49m\u001b[43m(\u001b[49m\u001b[43mreq\u001b[49m\u001b[43m)\u001b[49m\n\u001b[32m    252\u001b[39m \u001b[38;5;28;01massert\u001b[39;00m \u001b[38;5;28misinstance\u001b[39m(resp.stream, typing.Iterable)\n\u001b[32m    254\u001b[39m \u001b[38;5;28;01mreturn\u001b[39;00m Response(\n\u001b[32m    255\u001b[39m     status_code=resp.status,\n\u001b[32m    256\u001b[39m     headers=resp.headers,\n\u001b[32m    257\u001b[39m     stream=ResponseStream(resp.stream),\n\u001b[32m    258\u001b[39m     extensions=resp.extensions,\n\u001b[32m    259\u001b[39m )\n",
      "\u001b[36mFile \u001b[39m\u001b[32mc:\\Users\\Janet\\AppData\\Local\\Programs\\Python\\Python312\\Lib\\site-packages\\httpcore\\_sync\\connection_pool.py:256\u001b[39m, in \u001b[36mConnectionPool.handle_request\u001b[39m\u001b[34m(self, request)\u001b[39m\n\u001b[32m    253\u001b[39m         closing = \u001b[38;5;28mself\u001b[39m._assign_requests_to_connections()\n\u001b[32m    255\u001b[39m     \u001b[38;5;28mself\u001b[39m._close_connections(closing)\n\u001b[32m--> \u001b[39m\u001b[32m256\u001b[39m     \u001b[38;5;28;01mraise\u001b[39;00m exc \u001b[38;5;28;01mfrom\u001b[39;00m\u001b[38;5;250m \u001b[39m\u001b[38;5;28;01mNone\u001b[39;00m\n\u001b[32m    258\u001b[39m \u001b[38;5;66;03m# Return the response. Note that in this case we still have to manage\u001b[39;00m\n\u001b[32m    259\u001b[39m \u001b[38;5;66;03m# the point at which the response is closed.\u001b[39;00m\n\u001b[32m    260\u001b[39m \u001b[38;5;28;01massert\u001b[39;00m \u001b[38;5;28misinstance\u001b[39m(response.stream, typing.Iterable)\n",
      "\u001b[36mFile \u001b[39m\u001b[32mc:\\Users\\Janet\\AppData\\Local\\Programs\\Python\\Python312\\Lib\\site-packages\\httpcore\\_sync\\connection_pool.py:236\u001b[39m, in \u001b[36mConnectionPool.handle_request\u001b[39m\u001b[34m(self, request)\u001b[39m\n\u001b[32m    232\u001b[39m connection = pool_request.wait_for_connection(timeout=timeout)\n\u001b[32m    234\u001b[39m \u001b[38;5;28;01mtry\u001b[39;00m:\n\u001b[32m    235\u001b[39m     \u001b[38;5;66;03m# Send the request on the assigned connection.\u001b[39;00m\n\u001b[32m--> \u001b[39m\u001b[32m236\u001b[39m     response = \u001b[43mconnection\u001b[49m\u001b[43m.\u001b[49m\u001b[43mhandle_request\u001b[49m\u001b[43m(\u001b[49m\n\u001b[32m    237\u001b[39m \u001b[43m        \u001b[49m\u001b[43mpool_request\u001b[49m\u001b[43m.\u001b[49m\u001b[43mrequest\u001b[49m\n\u001b[32m    238\u001b[39m \u001b[43m    \u001b[49m\u001b[43m)\u001b[49m\n\u001b[32m    239\u001b[39m \u001b[38;5;28;01mexcept\u001b[39;00m ConnectionNotAvailable:\n\u001b[32m    240\u001b[39m     \u001b[38;5;66;03m# In some cases a connection may initially be available to\u001b[39;00m\n\u001b[32m    241\u001b[39m     \u001b[38;5;66;03m# handle a request, but then become unavailable.\u001b[39;00m\n\u001b[32m    242\u001b[39m     \u001b[38;5;66;03m#\u001b[39;00m\n\u001b[32m    243\u001b[39m     \u001b[38;5;66;03m# In this case we clear the connection and try again.\u001b[39;00m\n\u001b[32m    244\u001b[39m     pool_request.clear_connection()\n",
      "\u001b[36mFile \u001b[39m\u001b[32mc:\\Users\\Janet\\AppData\\Local\\Programs\\Python\\Python312\\Lib\\site-packages\\httpcore\\_sync\\connection.py:103\u001b[39m, in \u001b[36mHTTPConnection.handle_request\u001b[39m\u001b[34m(self, request)\u001b[39m\n\u001b[32m    100\u001b[39m     \u001b[38;5;28mself\u001b[39m._connect_failed = \u001b[38;5;28;01mTrue\u001b[39;00m\n\u001b[32m    101\u001b[39m     \u001b[38;5;28;01mraise\u001b[39;00m exc\n\u001b[32m--> \u001b[39m\u001b[32m103\u001b[39m \u001b[38;5;28;01mreturn\u001b[39;00m \u001b[38;5;28;43mself\u001b[39;49m\u001b[43m.\u001b[49m\u001b[43m_connection\u001b[49m\u001b[43m.\u001b[49m\u001b[43mhandle_request\u001b[49m\u001b[43m(\u001b[49m\u001b[43mrequest\u001b[49m\u001b[43m)\u001b[49m\n",
      "\u001b[36mFile \u001b[39m\u001b[32mc:\\Users\\Janet\\AppData\\Local\\Programs\\Python\\Python312\\Lib\\site-packages\\httpcore\\_sync\\http11.py:136\u001b[39m, in \u001b[36mHTTP11Connection.handle_request\u001b[39m\u001b[34m(self, request)\u001b[39m\n\u001b[32m    134\u001b[39m     \u001b[38;5;28;01mwith\u001b[39;00m Trace(\u001b[33m\"\u001b[39m\u001b[33mresponse_closed\u001b[39m\u001b[33m\"\u001b[39m, logger, request) \u001b[38;5;28;01mas\u001b[39;00m trace:\n\u001b[32m    135\u001b[39m         \u001b[38;5;28mself\u001b[39m._response_closed()\n\u001b[32m--> \u001b[39m\u001b[32m136\u001b[39m \u001b[38;5;28;01mraise\u001b[39;00m exc\n",
      "\u001b[36mFile \u001b[39m\u001b[32mc:\\Users\\Janet\\AppData\\Local\\Programs\\Python\\Python312\\Lib\\site-packages\\httpcore\\_sync\\http11.py:106\u001b[39m, in \u001b[36mHTTP11Connection.handle_request\u001b[39m\u001b[34m(self, request)\u001b[39m\n\u001b[32m     95\u001b[39m     \u001b[38;5;28;01mpass\u001b[39;00m\n\u001b[32m     97\u001b[39m \u001b[38;5;28;01mwith\u001b[39;00m Trace(\n\u001b[32m     98\u001b[39m     \u001b[33m\"\u001b[39m\u001b[33mreceive_response_headers\u001b[39m\u001b[33m\"\u001b[39m, logger, request, kwargs\n\u001b[32m     99\u001b[39m ) \u001b[38;5;28;01mas\u001b[39;00m trace:\n\u001b[32m    100\u001b[39m     (\n\u001b[32m    101\u001b[39m         http_version,\n\u001b[32m    102\u001b[39m         status,\n\u001b[32m    103\u001b[39m         reason_phrase,\n\u001b[32m    104\u001b[39m         headers,\n\u001b[32m    105\u001b[39m         trailing_data,\n\u001b[32m--> \u001b[39m\u001b[32m106\u001b[39m     ) = \u001b[38;5;28;43mself\u001b[39;49m\u001b[43m.\u001b[49m\u001b[43m_receive_response_headers\u001b[49m\u001b[43m(\u001b[49m\u001b[43m*\u001b[49m\u001b[43m*\u001b[49m\u001b[43mkwargs\u001b[49m\u001b[43m)\u001b[49m\n\u001b[32m    107\u001b[39m     trace.return_value = (\n\u001b[32m    108\u001b[39m         http_version,\n\u001b[32m    109\u001b[39m         status,\n\u001b[32m    110\u001b[39m         reason_phrase,\n\u001b[32m    111\u001b[39m         headers,\n\u001b[32m    112\u001b[39m     )\n\u001b[32m    114\u001b[39m network_stream = \u001b[38;5;28mself\u001b[39m._network_stream\n",
      "\u001b[36mFile \u001b[39m\u001b[32mc:\\Users\\Janet\\AppData\\Local\\Programs\\Python\\Python312\\Lib\\site-packages\\httpcore\\_sync\\http11.py:177\u001b[39m, in \u001b[36mHTTP11Connection._receive_response_headers\u001b[39m\u001b[34m(self, request)\u001b[39m\n\u001b[32m    174\u001b[39m timeout = timeouts.get(\u001b[33m\"\u001b[39m\u001b[33mread\u001b[39m\u001b[33m\"\u001b[39m, \u001b[38;5;28;01mNone\u001b[39;00m)\n\u001b[32m    176\u001b[39m \u001b[38;5;28;01mwhile\u001b[39;00m \u001b[38;5;28;01mTrue\u001b[39;00m:\n\u001b[32m--> \u001b[39m\u001b[32m177\u001b[39m     event = \u001b[38;5;28;43mself\u001b[39;49m\u001b[43m.\u001b[49m\u001b[43m_receive_event\u001b[49m\u001b[43m(\u001b[49m\u001b[43mtimeout\u001b[49m\u001b[43m=\u001b[49m\u001b[43mtimeout\u001b[49m\u001b[43m)\u001b[49m\n\u001b[32m    178\u001b[39m     \u001b[38;5;28;01mif\u001b[39;00m \u001b[38;5;28misinstance\u001b[39m(event, h11.Response):\n\u001b[32m    179\u001b[39m         \u001b[38;5;28;01mbreak\u001b[39;00m\n",
      "\u001b[36mFile \u001b[39m\u001b[32mc:\\Users\\Janet\\AppData\\Local\\Programs\\Python\\Python312\\Lib\\site-packages\\httpcore\\_sync\\http11.py:217\u001b[39m, in \u001b[36mHTTP11Connection._receive_event\u001b[39m\u001b[34m(self, timeout)\u001b[39m\n\u001b[32m    214\u001b[39m     event = \u001b[38;5;28mself\u001b[39m._h11_state.next_event()\n\u001b[32m    216\u001b[39m \u001b[38;5;28;01mif\u001b[39;00m event \u001b[38;5;129;01mis\u001b[39;00m h11.NEED_DATA:\n\u001b[32m--> \u001b[39m\u001b[32m217\u001b[39m     data = \u001b[38;5;28;43mself\u001b[39;49m\u001b[43m.\u001b[49m\u001b[43m_network_stream\u001b[49m\u001b[43m.\u001b[49m\u001b[43mread\u001b[49m\u001b[43m(\u001b[49m\n\u001b[32m    218\u001b[39m \u001b[43m        \u001b[49m\u001b[38;5;28;43mself\u001b[39;49m\u001b[43m.\u001b[49m\u001b[43mREAD_NUM_BYTES\u001b[49m\u001b[43m,\u001b[49m\u001b[43m \u001b[49m\u001b[43mtimeout\u001b[49m\u001b[43m=\u001b[49m\u001b[43mtimeout\u001b[49m\n\u001b[32m    219\u001b[39m \u001b[43m    \u001b[49m\u001b[43m)\u001b[49m\n\u001b[32m    221\u001b[39m     \u001b[38;5;66;03m# If we feed this case through h11 we'll raise an exception like:\u001b[39;00m\n\u001b[32m    222\u001b[39m     \u001b[38;5;66;03m#\u001b[39;00m\n\u001b[32m    223\u001b[39m     \u001b[38;5;66;03m#     httpcore.RemoteProtocolError: can't handle event type\u001b[39;00m\n\u001b[32m   (...)\u001b[39m\u001b[32m    227\u001b[39m     \u001b[38;5;66;03m# perspective. Instead we handle this case distinctly and treat\u001b[39;00m\n\u001b[32m    228\u001b[39m     \u001b[38;5;66;03m# it as a ConnectError.\u001b[39;00m\n\u001b[32m    229\u001b[39m     \u001b[38;5;28;01mif\u001b[39;00m data == \u001b[33mb\u001b[39m\u001b[33m\"\u001b[39m\u001b[33m\"\u001b[39m \u001b[38;5;129;01mand\u001b[39;00m \u001b[38;5;28mself\u001b[39m._h11_state.their_state == h11.SEND_RESPONSE:\n",
      "\u001b[36mFile \u001b[39m\u001b[32mc:\\Users\\Janet\\AppData\\Local\\Programs\\Python\\Python312\\Lib\\site-packages\\httpcore\\_backends\\sync.py:128\u001b[39m, in \u001b[36mSyncStream.read\u001b[39m\u001b[34m(self, max_bytes, timeout)\u001b[39m\n\u001b[32m    126\u001b[39m \u001b[38;5;28;01mwith\u001b[39;00m map_exceptions(exc_map):\n\u001b[32m    127\u001b[39m     \u001b[38;5;28mself\u001b[39m._sock.settimeout(timeout)\n\u001b[32m--> \u001b[39m\u001b[32m128\u001b[39m     \u001b[38;5;28;01mreturn\u001b[39;00m \u001b[38;5;28;43mself\u001b[39;49m\u001b[43m.\u001b[49m\u001b[43m_sock\u001b[49m\u001b[43m.\u001b[49m\u001b[43mrecv\u001b[49m\u001b[43m(\u001b[49m\u001b[43mmax_bytes\u001b[49m\u001b[43m)\u001b[49m\n",
      "\u001b[36mFile \u001b[39m\u001b[32mc:\\Users\\Janet\\AppData\\Local\\Programs\\Python\\Python312\\Lib\\ssl.py:1234\u001b[39m, in \u001b[36mSSLSocket.recv\u001b[39m\u001b[34m(self, buflen, flags)\u001b[39m\n\u001b[32m   1230\u001b[39m     \u001b[38;5;28;01mif\u001b[39;00m flags != \u001b[32m0\u001b[39m:\n\u001b[32m   1231\u001b[39m         \u001b[38;5;28;01mraise\u001b[39;00m \u001b[38;5;167;01mValueError\u001b[39;00m(\n\u001b[32m   1232\u001b[39m             \u001b[33m\"\u001b[39m\u001b[33mnon-zero flags not allowed in calls to recv() on \u001b[39m\u001b[38;5;132;01m%s\u001b[39;00m\u001b[33m\"\u001b[39m %\n\u001b[32m   1233\u001b[39m             \u001b[38;5;28mself\u001b[39m.\u001b[34m__class__\u001b[39m)\n\u001b[32m-> \u001b[39m\u001b[32m1234\u001b[39m     \u001b[38;5;28;01mreturn\u001b[39;00m \u001b[38;5;28;43mself\u001b[39;49m\u001b[43m.\u001b[49m\u001b[43mread\u001b[49m\u001b[43m(\u001b[49m\u001b[43mbuflen\u001b[49m\u001b[43m)\u001b[49m\n\u001b[32m   1235\u001b[39m \u001b[38;5;28;01melse\u001b[39;00m:\n\u001b[32m   1236\u001b[39m     \u001b[38;5;28;01mreturn\u001b[39;00m \u001b[38;5;28msuper\u001b[39m().recv(buflen, flags)\n",
      "\u001b[36mFile \u001b[39m\u001b[32mc:\\Users\\Janet\\AppData\\Local\\Programs\\Python\\Python312\\Lib\\ssl.py:1107\u001b[39m, in \u001b[36mSSLSocket.read\u001b[39m\u001b[34m(self, len, buffer)\u001b[39m\n\u001b[32m   1105\u001b[39m         \u001b[38;5;28;01mreturn\u001b[39;00m \u001b[38;5;28mself\u001b[39m._sslobj.read(\u001b[38;5;28mlen\u001b[39m, buffer)\n\u001b[32m   1106\u001b[39m     \u001b[38;5;28;01melse\u001b[39;00m:\n\u001b[32m-> \u001b[39m\u001b[32m1107\u001b[39m         \u001b[38;5;28;01mreturn\u001b[39;00m \u001b[38;5;28;43mself\u001b[39;49m\u001b[43m.\u001b[49m\u001b[43m_sslobj\u001b[49m\u001b[43m.\u001b[49m\u001b[43mread\u001b[49m\u001b[43m(\u001b[49m\u001b[38;5;28;43mlen\u001b[39;49m\u001b[43m)\u001b[49m\n\u001b[32m   1108\u001b[39m \u001b[38;5;28;01mexcept\u001b[39;00m SSLError \u001b[38;5;28;01mas\u001b[39;00m x:\n\u001b[32m   1109\u001b[39m     \u001b[38;5;28;01mif\u001b[39;00m x.args[\u001b[32m0\u001b[39m] == SSL_ERROR_EOF \u001b[38;5;129;01mand\u001b[39;00m \u001b[38;5;28mself\u001b[39m.suppress_ragged_eofs:\n",
      "\u001b[31mKeyboardInterrupt\u001b[39m: "
     ]
    }
   ],
   "source": [
    "# Ejecutar el experimento\n",
    "if not questions:\n",
    "    print(\"Error: No se pudieron cargar las preguntas\")\n",
    "    print(\"Verifica que:\")\n",
    "    print(\"1. El archivo 'questions.csv' existe en el directorio actual\")\n",
    "    print(\"2. El archivo contiene una columna llamada 'pregunta'\")\n",
    "else:\n",
    "    print(f\"Chatbot inicializado: {type(chatbot).__name__}\")\n",
    "    print(f\"Preguntas cargadas: {len(questions)}\")\n",
    "    print(\"\\nIniciando procesamiento de preguntas...\")\n",
    "    \n",
    "    results = process_questions(questions)\n",
    "    \n",
    "# Guardar resultados finales en JSON\n",
    "results_json = [\n",
    "    {\n",
    "        \"pregunta\": r[\"pregunta\"],\n",
    "        \"respuesta\": r.get(\"respuesta_manual\", \"\")\n",
    "    } \n",
    "    for r in results\n",
    "]\n",
    "\n",
    "with open('responses.json', 'w', encoding='utf-8') as f:\n",
    "    json.dump(results_json, f, ensure_ascii=False, indent=2)\n",
    "\n",
    "print(\"\\nProceso completado. Resultados guardados en 'responses.json'\")\n",
    "\n",
    "# Mostrar algunas estadísticas\n",
    "print(f\"\\nEstadísticas:\")\n",
    "print(f\"Total de preguntas procesadas: {len(results)}\")\n",
    "print(f\"Preguntas con error: {len([r for r in results if 'ERROR' in str(r.get('respuesta', ''))])}\")\n",
    "\n",
    "# Verificar formato para comparison.ipynb\n",
    "required_keys = {'pregunta', 'respuesta'}\n",
    "if all(key in results[0] for key in required_keys):\n",
    "    print(\"\\nFormato correcto para comparison.ipynb ✓\")\n",
    "else:\n",
    "    print(\"\\nAdvertencia: El formato puede no ser compatible con comparison.ipynb\")\n",
    "    print(f\"Claves esperadas: {required_keys}\")\n",
    "    print(f\"Claves actuales en el primer registro: {set(results[0].keys())}\")"
   ]
  }
 ],
 "metadata": {
  "kernelspec": {
   "display_name": "Python 3",
   "language": "python",
   "name": "python3"
  },
  "language_info": {
   "codemirror_mode": {
    "name": "ipython",
    "version": 3
   },
   "file_extension": ".py",
   "mimetype": "text/x-python",
   "name": "python",
   "nbconvert_exporter": "python",
   "pygments_lexer": "ipython3",
   "version": "3.12.0"
  }
 },
 "nbformat": 4,
 "nbformat_minor": 5
}

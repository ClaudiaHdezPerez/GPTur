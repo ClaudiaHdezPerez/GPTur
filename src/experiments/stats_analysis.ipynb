{
 "cells": [
  {
   "cell_type": "code",
   "execution_count": 2,
   "id": "1a2e4727",
   "metadata": {},
   "outputs": [
    {
     "name": "stdout",
     "output_type": "stream",
     "text": [
      "Error estándar muestral, SE_n = 0.05\n",
      "Valor z para 95% CI = 1.959963984540054\n",
      "Ancho teórico del IC = 0.1959963984540054\n",
      "¿Se cumple que el ancho del IC <= w? : True\n",
      "Error estándar teórico del bootstrap, SE_B = 0.03162277660168379\n",
      "¿Se cumple que SE_B <= 0.05*sigma? : True\n",
      "Error total integrado, SE_total = 0.05916079783099616\n"
     ]
    }
   ],
   "source": [
    "import numpy as np\n",
    "from scipy import stats\n",
    "\n",
    "# Parámetros de la implementación\n",
    "sigma = 1.0       # Desviación estándar teórica (o estimada) de la población\n",
    "n = 400           # Tamaño de muestra para cada extracción\n",
    "B = 1000          # Número de iteraciones para el bootstrapping\n",
    "w = 0.2           # Ancho máximo aceptable para el intervalo de confianza (IC)\n",
    "\n",
    "# -------------------------\n",
    "# CÁLCULOS TEÓRICOS\n",
    "# -------------------------\n",
    "\n",
    "# 1. Error estándar de la media (de la muestra original)\n",
    "SE_n = sigma / np.sqrt(n)\n",
    "print(\"Error estándar muestral, SE_n =\", SE_n)\n",
    "\n",
    "# 2. Intervalo de confianza (IC) al 95%\n",
    "# Calcular el valor crítico exacto para un IC al 95% (z = stats.norm.ppf(0.975))\n",
    "z_val = stats.norm.ppf(0.975)\n",
    "CI_width = 2 * z_val * SE_n  # X +/- Z * (sigma/√n) => Ancho total del IC: 2 * z * (sigma/√n)\n",
    "print(\"Valor z para 95% CI =\", z_val)\n",
    "print(\"Ancho teórico del IC =\", CI_width)\n",
    "print(\"¿Se cumple que el ancho del IC <= w? :\", CI_width <= w)\n",
    "\n",
    "# 3. Error estándar del bootstrap\n",
    "SE_B_theo = sigma / np.sqrt(B)\n",
    "print(\"Error estándar teórico del bootstrap, SE_B =\", SE_B_theo)\n",
    "print(\"¿Se cumple que SE_B <= 0.05*sigma? :\", SE_B_theo <= 0.05 * sigma)\n",
    "\n",
    "# 4. Error total integrado (combinando error muestral y error del bootstrap)\n",
    "SE_total = np.sqrt((sigma**2)/n + (sigma**2)/B)\n",
    "print(\"Error total integrado, SE_total =\", SE_total)"
   ]
  }
 ],
 "metadata": {
  "kernelspec": {
   "display_name": "Python 3",
   "language": "python",
   "name": "python3"
  },
  "language_info": {
   "codemirror_mode": {
    "name": "ipython",
    "version": 3
   },
   "file_extension": ".py",
   "mimetype": "text/x-python",
   "name": "python",
   "nbconvert_exporter": "python",
   "pygments_lexer": "ipython3",
   "version": "3.13.0"
  }
 },
 "nbformat": 4,
 "nbformat_minor": 5
}
